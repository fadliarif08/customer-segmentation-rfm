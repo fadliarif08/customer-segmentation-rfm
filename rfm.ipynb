{
 "cells": [
  {
   "cell_type": "markdown",
   "id": "db7295b3-55a1-4732-a0ed-d034c7757ef8",
   "metadata": {},
   "source": [
    "# Customer Segmentation Using RFM"
   ]
  },
  {
   "cell_type": "code",
   "execution_count": 37,
   "id": "94ace7b0-b319-42f4-b708-7c91bc1aab80",
   "metadata": {},
   "outputs": [],
   "source": [
    "import pandas as pd # data processing, read data\n",
    "import numpy as np # linear algebra\n",
    "\n",
    "import requests\n",
    "from io import StringIO\n",
    "\n",
    "# visualizations\n",
    "import matplotlib.pyplot as plt\n",
    "import seaborn as sns\n",
    "\n",
    "import datetime as dt # time module"
   ]
  },
  {
   "cell_type": "markdown",
   "id": "1e597979-bdf3-4e30-a96c-5f9ae60e896a",
   "metadata": {},
   "source": [
    "# Import Data"
   ]
  },
  {
   "cell_type": "code",
   "execution_count": 2,
   "id": "bfd8be9d-ffee-4dd3-9450-6cfaf4b501dd",
   "metadata": {},
   "outputs": [
    {
     "data": {
      "text/html": [
       "<div>\n",
       "<style scoped>\n",
       "    .dataframe tbody tr th:only-of-type {\n",
       "        vertical-align: middle;\n",
       "    }\n",
       "\n",
       "    .dataframe tbody tr th {\n",
       "        vertical-align: top;\n",
       "    }\n",
       "\n",
       "    .dataframe thead th {\n",
       "        text-align: right;\n",
       "    }\n",
       "</style>\n",
       "<table border=\"1\" class=\"dataframe\">\n",
       "  <thead>\n",
       "    <tr style=\"text-align: right;\">\n",
       "      <th></th>\n",
       "      <th>TransactionNo</th>\n",
       "      <th>Date</th>\n",
       "      <th>ProductNo</th>\n",
       "      <th>ProductName</th>\n",
       "      <th>Price</th>\n",
       "      <th>Quantity</th>\n",
       "      <th>CustomerNo</th>\n",
       "      <th>Country</th>\n",
       "    </tr>\n",
       "  </thead>\n",
       "  <tbody>\n",
       "    <tr>\n",
       "      <th>0</th>\n",
       "      <td>581482</td>\n",
       "      <td>12/9/2019</td>\n",
       "      <td>22485</td>\n",
       "      <td>Set Of 2 Wooden Market Crates</td>\n",
       "      <td>21.47</td>\n",
       "      <td>12</td>\n",
       "      <td>17490.0</td>\n",
       "      <td>United Kingdom</td>\n",
       "    </tr>\n",
       "    <tr>\n",
       "      <th>1</th>\n",
       "      <td>581475</td>\n",
       "      <td>12/9/2019</td>\n",
       "      <td>22596</td>\n",
       "      <td>Christmas Star Wish List Chalkboard</td>\n",
       "      <td>10.65</td>\n",
       "      <td>36</td>\n",
       "      <td>13069.0</td>\n",
       "      <td>United Kingdom</td>\n",
       "    </tr>\n",
       "    <tr>\n",
       "      <th>2</th>\n",
       "      <td>581475</td>\n",
       "      <td>12/9/2019</td>\n",
       "      <td>23235</td>\n",
       "      <td>Storage Tin Vintage Leaf</td>\n",
       "      <td>11.53</td>\n",
       "      <td>12</td>\n",
       "      <td>13069.0</td>\n",
       "      <td>United Kingdom</td>\n",
       "    </tr>\n",
       "    <tr>\n",
       "      <th>3</th>\n",
       "      <td>581475</td>\n",
       "      <td>12/9/2019</td>\n",
       "      <td>23272</td>\n",
       "      <td>Tree T-Light Holder Willie Winkie</td>\n",
       "      <td>10.65</td>\n",
       "      <td>12</td>\n",
       "      <td>13069.0</td>\n",
       "      <td>United Kingdom</td>\n",
       "    </tr>\n",
       "    <tr>\n",
       "      <th>4</th>\n",
       "      <td>581475</td>\n",
       "      <td>12/9/2019</td>\n",
       "      <td>23239</td>\n",
       "      <td>Set Of 4 Knick Knack Tins Poppies</td>\n",
       "      <td>11.94</td>\n",
       "      <td>6</td>\n",
       "      <td>13069.0</td>\n",
       "      <td>United Kingdom</td>\n",
       "    </tr>\n",
       "  </tbody>\n",
       "</table>\n",
       "</div>"
      ],
      "text/plain": [
       "  TransactionNo       Date ProductNo                          ProductName  \\\n",
       "0        581482  12/9/2019     22485        Set Of 2 Wooden Market Crates   \n",
       "1        581475  12/9/2019     22596  Christmas Star Wish List Chalkboard   \n",
       "2        581475  12/9/2019     23235             Storage Tin Vintage Leaf   \n",
       "3        581475  12/9/2019     23272    Tree T-Light Holder Willie Winkie   \n",
       "4        581475  12/9/2019     23239    Set Of 4 Knick Knack Tins Poppies   \n",
       "\n",
       "   Price  Quantity  CustomerNo         Country  \n",
       "0  21.47        12     17490.0  United Kingdom  \n",
       "1  10.65        36     13069.0  United Kingdom  \n",
       "2  11.53        12     13069.0  United Kingdom  \n",
       "3  10.65        12     13069.0  United Kingdom  \n",
       "4  11.94         6     13069.0  United Kingdom  "
      ]
     },
     "execution_count": 2,
     "metadata": {},
     "output_type": "execute_result"
    }
   ],
   "source": [
    "df = pd.read_csv('sales_transaction.csv')\n",
    "df.head()"
   ]
  },
  {
   "cell_type": "code",
   "execution_count": 4,
   "id": "39677867-39c3-472a-a4ad-cea00d7f32fc",
   "metadata": {},
   "outputs": [
    {
     "name": "stdout",
     "output_type": "stream",
     "text": [
      "<class 'pandas.core.frame.DataFrame'>\n",
      "RangeIndex: 536350 entries, 0 to 536349\n",
      "Data columns (total 8 columns):\n",
      " #   Column         Non-Null Count   Dtype  \n",
      "---  ------         --------------   -----  \n",
      " 0   TransactionNo  536350 non-null  object \n",
      " 1   Date           536350 non-null  object \n",
      " 2   ProductNo      536350 non-null  object \n",
      " 3   ProductName    536350 non-null  object \n",
      " 4   Price          536350 non-null  float64\n",
      " 5   Quantity       536350 non-null  int64  \n",
      " 6   CustomerNo     536295 non-null  float64\n",
      " 7   Country        536350 non-null  object \n",
      "dtypes: float64(2), int64(1), object(5)\n",
      "memory usage: 32.7+ MB\n"
     ]
    }
   ],
   "source": [
    "df.info()"
   ]
  },
  {
   "cell_type": "markdown",
   "id": "effcd6c3-c25c-4316-b73f-dd22e68d929b",
   "metadata": {},
   "source": [
    "# Data Preparation"
   ]
  },
  {
   "cell_type": "code",
   "execution_count": 50,
   "id": "be4eeb7a-8ffc-4b1d-9826-caf3faded2a8",
   "metadata": {},
   "outputs": [
    {
     "data": {
      "text/plain": [
       "TransactionNo     0\n",
       "Date              0\n",
       "ProductNo         0\n",
       "ProductName       0\n",
       "Price             0\n",
       "Quantity          0\n",
       "CustomerNo       55\n",
       "Country           0\n",
       "dtype: int64"
      ]
     },
     "execution_count": 50,
     "metadata": {},
     "output_type": "execute_result"
    }
   ],
   "source": [
    "df.isnull().sum()"
   ]
  },
  {
   "cell_type": "code",
   "execution_count": 3,
   "id": "d8564104-e4fc-440e-a9ae-84d32eed5437",
   "metadata": {},
   "outputs": [],
   "source": [
    "df.dropna(axis=0, inplace=True)"
   ]
  },
  {
   "cell_type": "code",
   "execution_count": 5,
   "id": "87fedff9-1419-41a8-8432-f76af006baa4",
   "metadata": {},
   "outputs": [
    {
     "data": {
      "text/plain": [
       "TransactionNo     object\n",
       "Date              object\n",
       "ProductNo         object\n",
       "ProductName       object\n",
       "Price            float64\n",
       "Quantity           int64\n",
       "CustomerNo       float64\n",
       "Country           object\n",
       "dtype: object"
      ]
     },
     "execution_count": 5,
     "metadata": {},
     "output_type": "execute_result"
    }
   ],
   "source": [
    "df.dtypes"
   ]
  },
  {
   "cell_type": "code",
   "execution_count": 4,
   "id": "8c3339a0-bed6-402b-98d0-a63afc4aadaa",
   "metadata": {},
   "outputs": [
    {
     "data": {
      "text/html": [
       "<div>\n",
       "<style scoped>\n",
       "    .dataframe tbody tr th:only-of-type {\n",
       "        vertical-align: middle;\n",
       "    }\n",
       "\n",
       "    .dataframe tbody tr th {\n",
       "        vertical-align: top;\n",
       "    }\n",
       "\n",
       "    .dataframe thead th {\n",
       "        text-align: right;\n",
       "    }\n",
       "</style>\n",
       "<table border=\"1\" class=\"dataframe\">\n",
       "  <thead>\n",
       "    <tr style=\"text-align: right;\">\n",
       "      <th></th>\n",
       "      <th>Date</th>\n",
       "      <th>ProductName</th>\n",
       "      <th>Price</th>\n",
       "      <th>Quantity</th>\n",
       "      <th>CustomerNo</th>\n",
       "      <th>Country</th>\n",
       "    </tr>\n",
       "  </thead>\n",
       "  <tbody>\n",
       "    <tr>\n",
       "      <th>0</th>\n",
       "      <td>12/9/2019</td>\n",
       "      <td>Set Of 2 Wooden Market Crates</td>\n",
       "      <td>21.47</td>\n",
       "      <td>12</td>\n",
       "      <td>17490.0</td>\n",
       "      <td>United Kingdom</td>\n",
       "    </tr>\n",
       "    <tr>\n",
       "      <th>1</th>\n",
       "      <td>12/9/2019</td>\n",
       "      <td>Christmas Star Wish List Chalkboard</td>\n",
       "      <td>10.65</td>\n",
       "      <td>36</td>\n",
       "      <td>13069.0</td>\n",
       "      <td>United Kingdom</td>\n",
       "    </tr>\n",
       "    <tr>\n",
       "      <th>2</th>\n",
       "      <td>12/9/2019</td>\n",
       "      <td>Storage Tin Vintage Leaf</td>\n",
       "      <td>11.53</td>\n",
       "      <td>12</td>\n",
       "      <td>13069.0</td>\n",
       "      <td>United Kingdom</td>\n",
       "    </tr>\n",
       "    <tr>\n",
       "      <th>3</th>\n",
       "      <td>12/9/2019</td>\n",
       "      <td>Tree T-Light Holder Willie Winkie</td>\n",
       "      <td>10.65</td>\n",
       "      <td>12</td>\n",
       "      <td>13069.0</td>\n",
       "      <td>United Kingdom</td>\n",
       "    </tr>\n",
       "    <tr>\n",
       "      <th>4</th>\n",
       "      <td>12/9/2019</td>\n",
       "      <td>Set Of 4 Knick Knack Tins Poppies</td>\n",
       "      <td>11.94</td>\n",
       "      <td>6</td>\n",
       "      <td>13069.0</td>\n",
       "      <td>United Kingdom</td>\n",
       "    </tr>\n",
       "  </tbody>\n",
       "</table>\n",
       "</div>"
      ],
      "text/plain": [
       "        Date                          ProductName  Price  Quantity  \\\n",
       "0  12/9/2019        Set Of 2 Wooden Market Crates  21.47        12   \n",
       "1  12/9/2019  Christmas Star Wish List Chalkboard  10.65        36   \n",
       "2  12/9/2019             Storage Tin Vintage Leaf  11.53        12   \n",
       "3  12/9/2019    Tree T-Light Holder Willie Winkie  10.65        12   \n",
       "4  12/9/2019    Set Of 4 Knick Knack Tins Poppies  11.94         6   \n",
       "\n",
       "   CustomerNo         Country  \n",
       "0     17490.0  United Kingdom  \n",
       "1     13069.0  United Kingdom  \n",
       "2     13069.0  United Kingdom  \n",
       "3     13069.0  United Kingdom  \n",
       "4     13069.0  United Kingdom  "
      ]
     },
     "execution_count": 4,
     "metadata": {},
     "output_type": "execute_result"
    }
   ],
   "source": [
    "df.drop(['TransactionNo', 'ProductNo'], axis= 1, inplace=True)\n",
    "df.head()"
   ]
  },
  {
   "cell_type": "code",
   "execution_count": 5,
   "id": "df33e4d5-e061-40b0-b7fa-2d5c3e14d283",
   "metadata": {},
   "outputs": [],
   "source": [
    "df['CustomerNo'] = df['CustomerNo'].astype(int) "
   ]
  },
  {
   "cell_type": "code",
   "execution_count": 6,
   "id": "b9b2d34b-38c3-45bb-b401-ba655f600173",
   "metadata": {},
   "outputs": [
    {
     "data": {
      "text/html": [
       "<div>\n",
       "<style scoped>\n",
       "    .dataframe tbody tr th:only-of-type {\n",
       "        vertical-align: middle;\n",
       "    }\n",
       "\n",
       "    .dataframe tbody tr th {\n",
       "        vertical-align: top;\n",
       "    }\n",
       "\n",
       "    .dataframe thead th {\n",
       "        text-align: right;\n",
       "    }\n",
       "</style>\n",
       "<table border=\"1\" class=\"dataframe\">\n",
       "  <thead>\n",
       "    <tr style=\"text-align: right;\">\n",
       "      <th></th>\n",
       "      <th>Date</th>\n",
       "      <th>ProductName</th>\n",
       "      <th>Price</th>\n",
       "      <th>Quantity</th>\n",
       "      <th>CustomerNo</th>\n",
       "      <th>Country</th>\n",
       "      <th>Monetary</th>\n",
       "    </tr>\n",
       "  </thead>\n",
       "  <tbody>\n",
       "    <tr>\n",
       "      <th>0</th>\n",
       "      <td>12/9/2019</td>\n",
       "      <td>Set Of 2 Wooden Market Crates</td>\n",
       "      <td>21.47</td>\n",
       "      <td>12</td>\n",
       "      <td>17490</td>\n",
       "      <td>United Kingdom</td>\n",
       "      <td>257.64</td>\n",
       "    </tr>\n",
       "    <tr>\n",
       "      <th>1</th>\n",
       "      <td>12/9/2019</td>\n",
       "      <td>Christmas Star Wish List Chalkboard</td>\n",
       "      <td>10.65</td>\n",
       "      <td>36</td>\n",
       "      <td>13069</td>\n",
       "      <td>United Kingdom</td>\n",
       "      <td>383.40</td>\n",
       "    </tr>\n",
       "    <tr>\n",
       "      <th>2</th>\n",
       "      <td>12/9/2019</td>\n",
       "      <td>Storage Tin Vintage Leaf</td>\n",
       "      <td>11.53</td>\n",
       "      <td>12</td>\n",
       "      <td>13069</td>\n",
       "      <td>United Kingdom</td>\n",
       "      <td>138.36</td>\n",
       "    </tr>\n",
       "    <tr>\n",
       "      <th>3</th>\n",
       "      <td>12/9/2019</td>\n",
       "      <td>Tree T-Light Holder Willie Winkie</td>\n",
       "      <td>10.65</td>\n",
       "      <td>12</td>\n",
       "      <td>13069</td>\n",
       "      <td>United Kingdom</td>\n",
       "      <td>127.80</td>\n",
       "    </tr>\n",
       "    <tr>\n",
       "      <th>4</th>\n",
       "      <td>12/9/2019</td>\n",
       "      <td>Set Of 4 Knick Knack Tins Poppies</td>\n",
       "      <td>11.94</td>\n",
       "      <td>6</td>\n",
       "      <td>13069</td>\n",
       "      <td>United Kingdom</td>\n",
       "      <td>71.64</td>\n",
       "    </tr>\n",
       "  </tbody>\n",
       "</table>\n",
       "</div>"
      ],
      "text/plain": [
       "        Date                          ProductName  Price  Quantity  \\\n",
       "0  12/9/2019        Set Of 2 Wooden Market Crates  21.47        12   \n",
       "1  12/9/2019  Christmas Star Wish List Chalkboard  10.65        36   \n",
       "2  12/9/2019             Storage Tin Vintage Leaf  11.53        12   \n",
       "3  12/9/2019    Tree T-Light Holder Willie Winkie  10.65        12   \n",
       "4  12/9/2019    Set Of 4 Knick Knack Tins Poppies  11.94         6   \n",
       "\n",
       "   CustomerNo         Country  Monetary  \n",
       "0       17490  United Kingdom    257.64  \n",
       "1       13069  United Kingdom    383.40  \n",
       "2       13069  United Kingdom    138.36  \n",
       "3       13069  United Kingdom    127.80  \n",
       "4       13069  United Kingdom     71.64  "
      ]
     },
     "execution_count": 6,
     "metadata": {},
     "output_type": "execute_result"
    }
   ],
   "source": [
    "df['Monetary'] = df['Price'] * df['Quantity']\n",
    "df.head()"
   ]
  },
  {
   "cell_type": "code",
   "execution_count": 7,
   "id": "6f8266cf-3bf0-4d23-88df-861016a29c5c",
   "metadata": {},
   "outputs": [],
   "source": [
    "df['Date'] = pd.DatetimeIndex(df['Date']).date"
   ]
  },
  {
   "cell_type": "code",
   "execution_count": 147,
   "id": "df9e49bd-c0dc-4959-a553-e5ff578c6103",
   "metadata": {},
   "outputs": [
    {
     "data": {
      "text/html": [
       "<div>\n",
       "<style scoped>\n",
       "    .dataframe tbody tr th:only-of-type {\n",
       "        vertical-align: middle;\n",
       "    }\n",
       "\n",
       "    .dataframe tbody tr th {\n",
       "        vertical-align: top;\n",
       "    }\n",
       "\n",
       "    .dataframe thead th {\n",
       "        text-align: right;\n",
       "    }\n",
       "</style>\n",
       "<table border=\"1\" class=\"dataframe\">\n",
       "  <thead>\n",
       "    <tr style=\"text-align: right;\">\n",
       "      <th></th>\n",
       "      <th>Date</th>\n",
       "      <th>ProductName</th>\n",
       "      <th>Price</th>\n",
       "      <th>Quantity</th>\n",
       "      <th>CustomerNo</th>\n",
       "      <th>Country</th>\n",
       "      <th>Monetary</th>\n",
       "    </tr>\n",
       "  </thead>\n",
       "  <tbody>\n",
       "    <tr>\n",
       "      <th>0</th>\n",
       "      <td>2019-12-09</td>\n",
       "      <td>Set Of 2 Wooden Market Crates</td>\n",
       "      <td>21.47</td>\n",
       "      <td>12</td>\n",
       "      <td>17490</td>\n",
       "      <td>United Kingdom</td>\n",
       "      <td>257.64</td>\n",
       "    </tr>\n",
       "    <tr>\n",
       "      <th>1</th>\n",
       "      <td>2019-12-09</td>\n",
       "      <td>Christmas Star Wish List Chalkboard</td>\n",
       "      <td>10.65</td>\n",
       "      <td>36</td>\n",
       "      <td>13069</td>\n",
       "      <td>United Kingdom</td>\n",
       "      <td>383.40</td>\n",
       "    </tr>\n",
       "    <tr>\n",
       "      <th>2</th>\n",
       "      <td>2019-12-09</td>\n",
       "      <td>Storage Tin Vintage Leaf</td>\n",
       "      <td>11.53</td>\n",
       "      <td>12</td>\n",
       "      <td>13069</td>\n",
       "      <td>United Kingdom</td>\n",
       "      <td>138.36</td>\n",
       "    </tr>\n",
       "    <tr>\n",
       "      <th>3</th>\n",
       "      <td>2019-12-09</td>\n",
       "      <td>Tree T-Light Holder Willie Winkie</td>\n",
       "      <td>10.65</td>\n",
       "      <td>12</td>\n",
       "      <td>13069</td>\n",
       "      <td>United Kingdom</td>\n",
       "      <td>127.80</td>\n",
       "    </tr>\n",
       "    <tr>\n",
       "      <th>4</th>\n",
       "      <td>2019-12-09</td>\n",
       "      <td>Set Of 4 Knick Knack Tins Poppies</td>\n",
       "      <td>11.94</td>\n",
       "      <td>6</td>\n",
       "      <td>13069</td>\n",
       "      <td>United Kingdom</td>\n",
       "      <td>71.64</td>\n",
       "    </tr>\n",
       "  </tbody>\n",
       "</table>\n",
       "</div>"
      ],
      "text/plain": [
       "         Date                          ProductName  Price  Quantity  \\\n",
       "0  2019-12-09        Set Of 2 Wooden Market Crates  21.47        12   \n",
       "1  2019-12-09  Christmas Star Wish List Chalkboard  10.65        36   \n",
       "2  2019-12-09             Storage Tin Vintage Leaf  11.53        12   \n",
       "3  2019-12-09    Tree T-Light Holder Willie Winkie  10.65        12   \n",
       "4  2019-12-09    Set Of 4 Knick Knack Tins Poppies  11.94         6   \n",
       "\n",
       "   CustomerNo         Country  Monetary  \n",
       "0       17490  United Kingdom    257.64  \n",
       "1       13069  United Kingdom    383.40  \n",
       "2       13069  United Kingdom    138.36  \n",
       "3       13069  United Kingdom    127.80  \n",
       "4       13069  United Kingdom     71.64  "
      ]
     },
     "execution_count": 147,
     "metadata": {},
     "output_type": "execute_result"
    }
   ],
   "source": [
    "df.head()"
   ]
  },
  {
   "cell_type": "markdown",
   "id": "0b30ea23-c2a1-4c1e-a0cc-34621f577466",
   "metadata": {},
   "source": [
    "# RFM Analysis"
   ]
  },
  {
   "cell_type": "markdown",
   "id": "ad72c170-2957-4c62-a495-e186583ee2dc",
   "metadata": {},
   "source": [
    "RFM (Recency, Frequency, Monetary) analysis is a customer segmentation technique that uses past purchase behavior to divide customers into groups. RFM helps divide customers into various categories or clusters to identify customers who are more likely to respond to promotions and also for future personalization services.\n",
    "\n",
    " - RECENCY (R): Days since last purchase\n",
    " - FREQUENCY (F): Total number of purchases\n",
    " - MONETARY VALUE (M): Total money this customer spent."
   ]
  },
  {
   "cell_type": "markdown",
   "id": "51f36275-112a-4a01-a0c9-212e83e76736",
   "metadata": {},
   "source": [
    "# Recency"
   ]
  },
  {
   "cell_type": "code",
   "execution_count": 103,
   "id": "58a823d7-9fd1-40b7-a289-3df05ca208eb",
   "metadata": {},
   "outputs": [
    {
     "data": {
      "text/plain": [
       "datetime.date(2018, 12, 1)"
      ]
     },
     "execution_count": 103,
     "metadata": {},
     "output_type": "execute_result"
    }
   ],
   "source": [
    "df['Date'].min()"
   ]
  },
  {
   "cell_type": "code",
   "execution_count": 104,
   "id": "86108d6c-ccba-428b-a5a3-4678920f19b5",
   "metadata": {},
   "outputs": [
    {
     "data": {
      "text/plain": [
       "datetime.date(2019, 12, 9)"
      ]
     },
     "execution_count": 104,
     "metadata": {},
     "output_type": "execute_result"
    }
   ],
   "source": [
    "df['Date'].max()"
   ]
  },
  {
   "cell_type": "code",
   "execution_count": 8,
   "id": "cc3c6750-b8dd-456e-948e-8b28f075c340",
   "metadata": {},
   "outputs": [],
   "source": [
    "date_now = dt.date(2019, 12, 10)"
   ]
  },
  {
   "cell_type": "code",
   "execution_count": 9,
   "id": "61d94c1d-79f2-4dba-bb8c-9aae746b8a5f",
   "metadata": {},
   "outputs": [
    {
     "data": {
      "text/html": [
       "<div>\n",
       "<style scoped>\n",
       "    .dataframe tbody tr th:only-of-type {\n",
       "        vertical-align: middle;\n",
       "    }\n",
       "\n",
       "    .dataframe tbody tr th {\n",
       "        vertical-align: top;\n",
       "    }\n",
       "\n",
       "    .dataframe thead th {\n",
       "        text-align: right;\n",
       "    }\n",
       "</style>\n",
       "<table border=\"1\" class=\"dataframe\">\n",
       "  <thead>\n",
       "    <tr style=\"text-align: right;\">\n",
       "      <th></th>\n",
       "      <th>CustomerNo</th>\n",
       "      <th>LastPuchaseDate</th>\n",
       "    </tr>\n",
       "  </thead>\n",
       "  <tbody>\n",
       "    <tr>\n",
       "      <th>0</th>\n",
       "      <td>12004</td>\n",
       "      <td>2019-04-26</td>\n",
       "    </tr>\n",
       "    <tr>\n",
       "      <th>1</th>\n",
       "      <td>12006</td>\n",
       "      <td>2019-05-05</td>\n",
       "    </tr>\n",
       "    <tr>\n",
       "      <th>2</th>\n",
       "      <td>12008</td>\n",
       "      <td>2019-03-08</td>\n",
       "    </tr>\n",
       "    <tr>\n",
       "      <th>3</th>\n",
       "      <td>12013</td>\n",
       "      <td>2018-12-15</td>\n",
       "    </tr>\n",
       "    <tr>\n",
       "      <th>4</th>\n",
       "      <td>12024</td>\n",
       "      <td>2019-06-16</td>\n",
       "    </tr>\n",
       "  </tbody>\n",
       "</table>\n",
       "</div>"
      ],
      "text/plain": [
       "   CustomerNo LastPuchaseDate\n",
       "0       12004      2019-04-26\n",
       "1       12006      2019-05-05\n",
       "2       12008      2019-03-08\n",
       "3       12013      2018-12-15\n",
       "4       12024      2019-06-16"
      ]
     },
     "execution_count": 9,
     "metadata": {},
     "output_type": "execute_result"
    }
   ],
   "source": [
    "df_recency = df.groupby(['CustomerNo'])['Date'].max().reset_index()\n",
    "df_recency.columns = ['CustomerNo', 'LastPuchaseDate']\n",
    "df_recency.head()"
   ]
  },
  {
   "cell_type": "code",
   "execution_count": 10,
   "id": "5d9754d7-69f0-47fa-ac14-01df2c14b112",
   "metadata": {},
   "outputs": [],
   "source": [
    "df_recency['Recency'] = df_recency['LastPuchaseDate'].apply(lambda x: (date_now - x).days)\n",
    "df_recency.drop('LastPuchaseDate', axis= 1, inplace=True)"
   ]
  },
  {
   "cell_type": "code",
   "execution_count": 132,
   "id": "d6c16b39-f29d-4da6-8423-3c75d73c7150",
   "metadata": {},
   "outputs": [
    {
     "data": {
      "text/html": [
       "<div>\n",
       "<style scoped>\n",
       "    .dataframe tbody tr th:only-of-type {\n",
       "        vertical-align: middle;\n",
       "    }\n",
       "\n",
       "    .dataframe tbody tr th {\n",
       "        vertical-align: top;\n",
       "    }\n",
       "\n",
       "    .dataframe thead th {\n",
       "        text-align: right;\n",
       "    }\n",
       "</style>\n",
       "<table border=\"1\" class=\"dataframe\">\n",
       "  <thead>\n",
       "    <tr style=\"text-align: right;\">\n",
       "      <th></th>\n",
       "      <th>CustomerNo</th>\n",
       "      <th>Recency</th>\n",
       "    </tr>\n",
       "  </thead>\n",
       "  <tbody>\n",
       "    <tr>\n",
       "      <th>0</th>\n",
       "      <td>12004</td>\n",
       "      <td>228</td>\n",
       "    </tr>\n",
       "    <tr>\n",
       "      <th>1</th>\n",
       "      <td>12006</td>\n",
       "      <td>219</td>\n",
       "    </tr>\n",
       "    <tr>\n",
       "      <th>2</th>\n",
       "      <td>12008</td>\n",
       "      <td>277</td>\n",
       "    </tr>\n",
       "    <tr>\n",
       "      <th>3</th>\n",
       "      <td>12013</td>\n",
       "      <td>360</td>\n",
       "    </tr>\n",
       "    <tr>\n",
       "      <th>4</th>\n",
       "      <td>12024</td>\n",
       "      <td>177</td>\n",
       "    </tr>\n",
       "  </tbody>\n",
       "</table>\n",
       "</div>"
      ],
      "text/plain": [
       "   CustomerNo  Recency\n",
       "0       12004      228\n",
       "1       12006      219\n",
       "2       12008      277\n",
       "3       12013      360\n",
       "4       12024      177"
      ]
     },
     "execution_count": 132,
     "metadata": {},
     "output_type": "execute_result"
    }
   ],
   "source": [
    "df_recency.head()"
   ]
  },
  {
   "cell_type": "markdown",
   "id": "1e424c5e-28ce-4b53-b236-ec3b22e9704d",
   "metadata": {},
   "source": [
    "# Frequency"
   ]
  },
  {
   "cell_type": "markdown",
   "id": "80466573-a55d-4f45-92af-a0549933ad69",
   "metadata": {},
   "source": [
    "Frequency helps us to know how many times a customer purchased from us. To do that we need to check how many invoices are registered by the same customer."
   ]
  },
  {
   "cell_type": "code",
   "execution_count": 34,
   "id": "d32f6da9-4cf2-43d3-b766-434f8bc1c9cd",
   "metadata": {},
   "outputs": [
    {
     "data": {
      "text/html": [
       "<div>\n",
       "<style scoped>\n",
       "    .dataframe tbody tr th:only-of-type {\n",
       "        vertical-align: middle;\n",
       "    }\n",
       "\n",
       "    .dataframe tbody tr th {\n",
       "        vertical-align: top;\n",
       "    }\n",
       "\n",
       "    .dataframe thead th {\n",
       "        text-align: right;\n",
       "    }\n",
       "</style>\n",
       "<table border=\"1\" class=\"dataframe\">\n",
       "  <thead>\n",
       "    <tr style=\"text-align: right;\">\n",
       "      <th></th>\n",
       "      <th>CustomerNo</th>\n",
       "      <th>Frequency</th>\n",
       "    </tr>\n",
       "  </thead>\n",
       "  <tbody>\n",
       "    <tr>\n",
       "      <th>0</th>\n",
       "      <td>12004</td>\n",
       "      <td>56</td>\n",
       "    </tr>\n",
       "    <tr>\n",
       "      <th>1</th>\n",
       "      <td>12006</td>\n",
       "      <td>1</td>\n",
       "    </tr>\n",
       "    <tr>\n",
       "      <th>2</th>\n",
       "      <td>12008</td>\n",
       "      <td>203</td>\n",
       "    </tr>\n",
       "    <tr>\n",
       "      <th>3</th>\n",
       "      <td>12013</td>\n",
       "      <td>1</td>\n",
       "    </tr>\n",
       "    <tr>\n",
       "      <th>4</th>\n",
       "      <td>12024</td>\n",
       "      <td>5</td>\n",
       "    </tr>\n",
       "  </tbody>\n",
       "</table>\n",
       "</div>"
      ],
      "text/plain": [
       "   CustomerNo  Frequency\n",
       "0       12004         56\n",
       "1       12006          1\n",
       "2       12008        203\n",
       "3       12013          1\n",
       "4       12024          5"
      ]
     },
     "execution_count": 34,
     "metadata": {},
     "output_type": "execute_result"
    }
   ],
   "source": [
    "df_frequency = df.groupby('CustomerNo').size().reset_index()\n",
    "df_frequency.columns = ['CustomerNo', 'Frequency']\n",
    "df_frequency.head()"
   ]
  },
  {
   "cell_type": "markdown",
   "id": "afb2bc48-9565-45ce-b282-0633e2e8b4dc",
   "metadata": {},
   "source": [
    "# Monetary"
   ]
  },
  {
   "cell_type": "markdown",
   "id": "371016b1-6a59-47c3-8b2e-bf697039d570",
   "metadata": {},
   "source": [
    "Monetary attribute answers the question: How much money did the customer spent over time?"
   ]
  },
  {
   "cell_type": "code",
   "execution_count": 11,
   "id": "18fb3933-2f47-43d5-87f9-fe05e1081217",
   "metadata": {},
   "outputs": [
    {
     "data": {
      "text/html": [
       "<div>\n",
       "<style scoped>\n",
       "    .dataframe tbody tr th:only-of-type {\n",
       "        vertical-align: middle;\n",
       "    }\n",
       "\n",
       "    .dataframe tbody tr th {\n",
       "        vertical-align: top;\n",
       "    }\n",
       "\n",
       "    .dataframe thead th {\n",
       "        text-align: right;\n",
       "    }\n",
       "</style>\n",
       "<table border=\"1\" class=\"dataframe\">\n",
       "  <thead>\n",
       "    <tr style=\"text-align: right;\">\n",
       "      <th></th>\n",
       "      <th>CustomerNo</th>\n",
       "      <th>Monetary</th>\n",
       "    </tr>\n",
       "  </thead>\n",
       "  <tbody>\n",
       "    <tr>\n",
       "      <th>0</th>\n",
       "      <td>12004</td>\n",
       "      <td>1509.60</td>\n",
       "    </tr>\n",
       "    <tr>\n",
       "      <th>1</th>\n",
       "      <td>12006</td>\n",
       "      <td>24.76</td>\n",
       "    </tr>\n",
       "    <tr>\n",
       "      <th>2</th>\n",
       "      <td>12008</td>\n",
       "      <td>5689.57</td>\n",
       "    </tr>\n",
       "    <tr>\n",
       "      <th>3</th>\n",
       "      <td>12013</td>\n",
       "      <td>69.96</td>\n",
       "    </tr>\n",
       "    <tr>\n",
       "      <th>4</th>\n",
       "      <td>12024</td>\n",
       "      <td>149.52</td>\n",
       "    </tr>\n",
       "  </tbody>\n",
       "</table>\n",
       "</div>"
      ],
      "text/plain": [
       "   CustomerNo  Monetary\n",
       "0       12004   1509.60\n",
       "1       12006     24.76\n",
       "2       12008   5689.57\n",
       "3       12013     69.96\n",
       "4       12024    149.52"
      ]
     },
     "execution_count": 11,
     "metadata": {},
     "output_type": "execute_result"
    }
   ],
   "source": [
    "df_monetary = df.groupby('CustomerNo')['Monetary'].sum().reset_index()\n",
    "df_monetary.head()"
   ]
  },
  {
   "cell_type": "markdown",
   "id": "5e86f705-fde5-4374-8659-426bdaeae530",
   "metadata": {},
   "source": [
    "# Create RFM Table"
   ]
  },
  {
   "cell_type": "code",
   "execution_count": 13,
   "id": "39a25724-3a78-4631-b50f-76d4e2d776ef",
   "metadata": {},
   "outputs": [],
   "source": [
    "df_tmp = df_recency.merge(df_frequency) #merge recency dataframe with frequency dataframe\n",
    "df_rfm = df_tmp.merge(df_monetary).set_index('CustomerNo') #merge again with monetary"
   ]
  },
  {
   "cell_type": "code",
   "execution_count": 154,
   "id": "791b6555-2955-42e4-992e-af472d52fe36",
   "metadata": {},
   "outputs": [
    {
     "data": {
      "text/html": [
       "<div>\n",
       "<style scoped>\n",
       "    .dataframe tbody tr th:only-of-type {\n",
       "        vertical-align: middle;\n",
       "    }\n",
       "\n",
       "    .dataframe tbody tr th {\n",
       "        vertical-align: top;\n",
       "    }\n",
       "\n",
       "    .dataframe thead th {\n",
       "        text-align: right;\n",
       "    }\n",
       "</style>\n",
       "<table border=\"1\" class=\"dataframe\">\n",
       "  <thead>\n",
       "    <tr style=\"text-align: right;\">\n",
       "      <th></th>\n",
       "      <th>Recency</th>\n",
       "      <th>Frequency</th>\n",
       "      <th>Monetary</th>\n",
       "    </tr>\n",
       "    <tr>\n",
       "      <th>CustomerNo</th>\n",
       "      <th></th>\n",
       "      <th></th>\n",
       "      <th></th>\n",
       "    </tr>\n",
       "  </thead>\n",
       "  <tbody>\n",
       "    <tr>\n",
       "      <th>12004</th>\n",
       "      <td>228</td>\n",
       "      <td>56</td>\n",
       "      <td>1509.60</td>\n",
       "    </tr>\n",
       "    <tr>\n",
       "      <th>12006</th>\n",
       "      <td>219</td>\n",
       "      <td>1</td>\n",
       "      <td>24.76</td>\n",
       "    </tr>\n",
       "    <tr>\n",
       "      <th>12008</th>\n",
       "      <td>277</td>\n",
       "      <td>203</td>\n",
       "      <td>5689.57</td>\n",
       "    </tr>\n",
       "    <tr>\n",
       "      <th>12013</th>\n",
       "      <td>360</td>\n",
       "      <td>1</td>\n",
       "      <td>69.96</td>\n",
       "    </tr>\n",
       "    <tr>\n",
       "      <th>12024</th>\n",
       "      <td>177</td>\n",
       "      <td>5</td>\n",
       "      <td>149.52</td>\n",
       "    </tr>\n",
       "    <tr>\n",
       "      <th>12025</th>\n",
       "      <td>288</td>\n",
       "      <td>46</td>\n",
       "      <td>1021.59</td>\n",
       "    </tr>\n",
       "    <tr>\n",
       "      <th>12026</th>\n",
       "      <td>340</td>\n",
       "      <td>409</td>\n",
       "      <td>20486.32</td>\n",
       "    </tr>\n",
       "    <tr>\n",
       "      <th>12031</th>\n",
       "      <td>71</td>\n",
       "      <td>7</td>\n",
       "      <td>136.18</td>\n",
       "    </tr>\n",
       "    <tr>\n",
       "      <th>12042</th>\n",
       "      <td>265</td>\n",
       "      <td>223</td>\n",
       "      <td>6296.77</td>\n",
       "    </tr>\n",
       "    <tr>\n",
       "      <th>12043</th>\n",
       "      <td>158</td>\n",
       "      <td>36</td>\n",
       "      <td>1235.59</td>\n",
       "    </tr>\n",
       "  </tbody>\n",
       "</table>\n",
       "</div>"
      ],
      "text/plain": [
       "            Recency  Frequency  Monetary\n",
       "CustomerNo                              \n",
       "12004           228         56   1509.60\n",
       "12006           219          1     24.76\n",
       "12008           277        203   5689.57\n",
       "12013           360          1     69.96\n",
       "12024           177          5    149.52\n",
       "12025           288         46   1021.59\n",
       "12026           340        409  20486.32\n",
       "12031            71          7    136.18\n",
       "12042           265        223   6296.77\n",
       "12043           158         36   1235.59"
      ]
     },
     "execution_count": 154,
     "metadata": {},
     "output_type": "execute_result"
    }
   ],
   "source": [
    "df_rfm.head(10)"
   ]
  },
  {
   "cell_type": "markdown",
   "id": "7f329aed-725c-4c5d-b54a-093380972209",
   "metadata": {},
   "source": [
    "# Check RFM table validation"
   ]
  },
  {
   "cell_type": "code",
   "execution_count": 156,
   "id": "a5786e8d-0309-4ebc-9489-9408fe171e43",
   "metadata": {},
   "outputs": [
    {
     "data": {
      "text/html": [
       "<div>\n",
       "<style scoped>\n",
       "    .dataframe tbody tr th:only-of-type {\n",
       "        vertical-align: middle;\n",
       "    }\n",
       "\n",
       "    .dataframe tbody tr th {\n",
       "        vertical-align: top;\n",
       "    }\n",
       "\n",
       "    .dataframe thead th {\n",
       "        text-align: right;\n",
       "    }\n",
       "</style>\n",
       "<table border=\"1\" class=\"dataframe\">\n",
       "  <thead>\n",
       "    <tr style=\"text-align: right;\">\n",
       "      <th></th>\n",
       "      <th>Date</th>\n",
       "      <th>ProductName</th>\n",
       "      <th>Price</th>\n",
       "      <th>Quantity</th>\n",
       "      <th>CustomerNo</th>\n",
       "      <th>Country</th>\n",
       "      <th>Monetary</th>\n",
       "    </tr>\n",
       "  </thead>\n",
       "  <tbody>\n",
       "    <tr>\n",
       "      <th>309301</th>\n",
       "      <td>2019-06-16</td>\n",
       "      <td>Vintage Caravan Gift Wrap</td>\n",
       "      <td>10.68</td>\n",
       "      <td>4</td>\n",
       "      <td>12024</td>\n",
       "      <td>United Kingdom</td>\n",
       "      <td>42.72</td>\n",
       "    </tr>\n",
       "    <tr>\n",
       "      <th>309302</th>\n",
       "      <td>2019-06-16</td>\n",
       "      <td>Wrap Green Pears</td>\n",
       "      <td>10.68</td>\n",
       "      <td>1</td>\n",
       "      <td>12024</td>\n",
       "      <td>United Kingdom</td>\n",
       "      <td>10.68</td>\n",
       "    </tr>\n",
       "    <tr>\n",
       "      <th>309303</th>\n",
       "      <td>2019-06-16</td>\n",
       "      <td>Wrap Monster Fun</td>\n",
       "      <td>10.68</td>\n",
       "      <td>3</td>\n",
       "      <td>12024</td>\n",
       "      <td>United Kingdom</td>\n",
       "      <td>32.04</td>\n",
       "    </tr>\n",
       "    <tr>\n",
       "      <th>309304</th>\n",
       "      <td>2019-06-16</td>\n",
       "      <td>Wrap Red Apples</td>\n",
       "      <td>10.68</td>\n",
       "      <td>3</td>\n",
       "      <td>12024</td>\n",
       "      <td>United Kingdom</td>\n",
       "      <td>32.04</td>\n",
       "    </tr>\n",
       "    <tr>\n",
       "      <th>309305</th>\n",
       "      <td>2019-06-16</td>\n",
       "      <td>Wrap Cowboys</td>\n",
       "      <td>10.68</td>\n",
       "      <td>3</td>\n",
       "      <td>12024</td>\n",
       "      <td>United Kingdom</td>\n",
       "      <td>32.04</td>\n",
       "    </tr>\n",
       "  </tbody>\n",
       "</table>\n",
       "</div>"
      ],
      "text/plain": [
       "              Date                ProductName  Price  Quantity  CustomerNo  \\\n",
       "309301  2019-06-16  Vintage Caravan Gift Wrap  10.68         4       12024   \n",
       "309302  2019-06-16           Wrap Green Pears  10.68         1       12024   \n",
       "309303  2019-06-16           Wrap Monster Fun  10.68         3       12024   \n",
       "309304  2019-06-16            Wrap Red Apples  10.68         3       12024   \n",
       "309305  2019-06-16               Wrap Cowboys  10.68         3       12024   \n",
       "\n",
       "               Country  Monetary  \n",
       "309301  United Kingdom     42.72  \n",
       "309302  United Kingdom     10.68  \n",
       "309303  United Kingdom     32.04  \n",
       "309304  United Kingdom     32.04  \n",
       "309305  United Kingdom     32.04  "
      ]
     },
     "execution_count": 156,
     "metadata": {},
     "output_type": "execute_result"
    }
   ],
   "source": [
    "df[df['CustomerNo'] == 12024]\t"
   ]
  },
  {
   "cell_type": "code",
   "execution_count": 157,
   "id": "99d20729-d075-446a-91b4-a16ff4fad70b",
   "metadata": {},
   "outputs": [
    {
     "data": {
      "text/html": [
       "<div>\n",
       "<style scoped>\n",
       "    .dataframe tbody tr th:only-of-type {\n",
       "        vertical-align: middle;\n",
       "    }\n",
       "\n",
       "    .dataframe tbody tr th {\n",
       "        vertical-align: top;\n",
       "    }\n",
       "\n",
       "    .dataframe thead th {\n",
       "        text-align: right;\n",
       "    }\n",
       "</style>\n",
       "<table border=\"1\" class=\"dataframe\">\n",
       "  <thead>\n",
       "    <tr style=\"text-align: right;\">\n",
       "      <th></th>\n",
       "      <th>Date</th>\n",
       "      <th>ProductName</th>\n",
       "      <th>Price</th>\n",
       "      <th>Quantity</th>\n",
       "      <th>CustomerNo</th>\n",
       "      <th>Country</th>\n",
       "      <th>Monetary</th>\n",
       "    </tr>\n",
       "  </thead>\n",
       "  <tbody>\n",
       "    <tr>\n",
       "      <th>362925</th>\n",
       "      <td>2019-05-05</td>\n",
       "      <td>Jumbo Storage Bag Skulls</td>\n",
       "      <td>12.38</td>\n",
       "      <td>2</td>\n",
       "      <td>12006</td>\n",
       "      <td>United Kingdom</td>\n",
       "      <td>24.76</td>\n",
       "    </tr>\n",
       "  </tbody>\n",
       "</table>\n",
       "</div>"
      ],
      "text/plain": [
       "              Date               ProductName  Price  Quantity  CustomerNo  \\\n",
       "362925  2019-05-05  Jumbo Storage Bag Skulls  12.38         2       12006   \n",
       "\n",
       "               Country  Monetary  \n",
       "362925  United Kingdom     24.76  "
      ]
     },
     "execution_count": 157,
     "metadata": {},
     "output_type": "execute_result"
    }
   ],
   "source": [
    "df[df['CustomerNo'] == 12006]\t"
   ]
  },
  {
   "cell_type": "markdown",
   "id": "aa37ddb0-8803-4f01-92ed-f8328e84adbf",
   "metadata": {},
   "source": [
    "# Build customer segments with RFM Model"
   ]
  },
  {
   "cell_type": "markdown",
   "id": "4398b54c-a2bd-4194-bdfb-9f7c8d99c928",
   "metadata": {},
   "source": [
    "The simplest way to create customers segments from RFM Model is to use ** Tertiles**. We assign a score from 1 to 3 to Recency, Frequency and Monetary. Four is the best/highest value, and one is the lowest/worst value. A final RFM score is calculated simply by combining individual RFM score numbers."
   ]
  },
  {
   "cell_type": "markdown",
   "id": "3a8a08ea-d0a7-49e8-9c17-7531dcc692b9",
   "metadata": {},
   "source": [
    "# RFM Tertiles"
   ]
  },
  {
   "cell_type": "code",
   "execution_count": 14,
   "id": "67b8ca98-cd33-4bab-bc8d-f717b6b49782",
   "metadata": {},
   "outputs": [
    {
     "data": {
      "text/plain": [
       "{'Recency': {0.33: 25.0, 0.66: 97.0},\n",
       " 'Frequency': {0.33: 27.0, 0.66: 92.0},\n",
       " 'Monetary': {0.33: 2472.9609, 0.66: 8354.221}}"
      ]
     },
     "execution_count": 14,
     "metadata": {},
     "output_type": "execute_result"
    }
   ],
   "source": [
    "tertile = df_rfm.quantile([0.33, 0.66])\n",
    "tertile.to_dict()"
   ]
  },
  {
   "cell_type": "code",
   "execution_count": 15,
   "id": "5a91b521-71fd-49fe-a95c-8bc0423b902d",
   "metadata": {},
   "outputs": [],
   "source": [
    "# Arguments (x = value, p = recency, monetary_value, frequency, d = tertiles dict)\n",
    "def RScore(x,p,d):\n",
    "    if x <= d[p][0.33]:\n",
    "        return 3\n",
    "    elif x <= d[p][0.66]:\n",
    "        return 2\n",
    "    else:\n",
    "        return 1\n",
    "# Arguments (x = value, p = recency, monetary_value, frequency, k = tertiles dict)\n",
    "def FMScore(x,p,d):\n",
    "    if x <= d[p][0.33]:\n",
    "        return 1\n",
    "    elif x <= d[p][0.66]:\n",
    "        return 2\n",
    "    else:\n",
    "        return 3"
   ]
  },
  {
   "cell_type": "code",
   "execution_count": 16,
   "id": "c3bfea9b-b39a-4a5b-8339-99e863d7e4c7",
   "metadata": {},
   "outputs": [],
   "source": [
    "rfm_segmentation = df_rfm\n",
    "rfm_segmentation['R_Tertile'] = rfm_segmentation['Recency'].apply(RScore, args=('Recency',tertile,))\n",
    "rfm_segmentation['F_Tertile'] = rfm_segmentation['Frequency'].apply(FMScore, args=('Frequency',tertile,))\n",
    "rfm_segmentation['M_Tertile'] = rfm_segmentation['Monetary'].apply(FMScore, args=('Monetary',tertile,))"
   ]
  },
  {
   "cell_type": "code",
   "execution_count": 17,
   "id": "6254496f-1cf3-4c3f-81e3-649037151948",
   "metadata": {},
   "outputs": [],
   "source": [
    "rfm_segmentation['RFM_Score'] = rfm_segmentation.R_Tertile.map(str) \\\n",
    "                            + rfm_segmentation.F_Tertile.map(str) \\\n",
    "                            + rfm_segmentation.M_Tertile.map(str)"
   ]
  },
  {
   "cell_type": "code",
   "execution_count": 35,
   "id": "1b3be3c9-b830-43db-8e26-fd6a162e2e72",
   "metadata": {},
   "outputs": [
    {
     "data": {
      "text/html": [
       "<div>\n",
       "<style scoped>\n",
       "    .dataframe tbody tr th:only-of-type {\n",
       "        vertical-align: middle;\n",
       "    }\n",
       "\n",
       "    .dataframe tbody tr th {\n",
       "        vertical-align: top;\n",
       "    }\n",
       "\n",
       "    .dataframe thead th {\n",
       "        text-align: right;\n",
       "    }\n",
       "</style>\n",
       "<table border=\"1\" class=\"dataframe\">\n",
       "  <thead>\n",
       "    <tr style=\"text-align: right;\">\n",
       "      <th></th>\n",
       "      <th>Recency</th>\n",
       "      <th>Frequency</th>\n",
       "      <th>Monetary</th>\n",
       "      <th>R_Tertile</th>\n",
       "      <th>F_Tertile</th>\n",
       "      <th>M_Tertile</th>\n",
       "      <th>RFM_Score</th>\n",
       "      <th>segment_name</th>\n",
       "    </tr>\n",
       "    <tr>\n",
       "      <th>CustomerNo</th>\n",
       "      <th></th>\n",
       "      <th></th>\n",
       "      <th></th>\n",
       "      <th></th>\n",
       "      <th></th>\n",
       "      <th></th>\n",
       "      <th></th>\n",
       "      <th></th>\n",
       "    </tr>\n",
       "  </thead>\n",
       "  <tbody>\n",
       "    <tr>\n",
       "      <th>12004</th>\n",
       "      <td>228</td>\n",
       "      <td>56</td>\n",
       "      <td>1509.60</td>\n",
       "      <td>1</td>\n",
       "      <td>2</td>\n",
       "      <td>1</td>\n",
       "      <td>121</td>\n",
       "      <td>ABOUT TO SLEEP</td>\n",
       "    </tr>\n",
       "    <tr>\n",
       "      <th>12006</th>\n",
       "      <td>219</td>\n",
       "      <td>1</td>\n",
       "      <td>24.76</td>\n",
       "      <td>1</td>\n",
       "      <td>1</td>\n",
       "      <td>1</td>\n",
       "      <td>111</td>\n",
       "      <td>LOST CUSTOMER</td>\n",
       "    </tr>\n",
       "    <tr>\n",
       "      <th>12008</th>\n",
       "      <td>277</td>\n",
       "      <td>203</td>\n",
       "      <td>5689.57</td>\n",
       "      <td>1</td>\n",
       "      <td>3</td>\n",
       "      <td>2</td>\n",
       "      <td>132</td>\n",
       "      <td>CANNOT LOOSE THEM</td>\n",
       "    </tr>\n",
       "    <tr>\n",
       "      <th>12013</th>\n",
       "      <td>360</td>\n",
       "      <td>1</td>\n",
       "      <td>69.96</td>\n",
       "      <td>1</td>\n",
       "      <td>1</td>\n",
       "      <td>1</td>\n",
       "      <td>111</td>\n",
       "      <td>LOST CUSTOMER</td>\n",
       "    </tr>\n",
       "    <tr>\n",
       "      <th>12024</th>\n",
       "      <td>177</td>\n",
       "      <td>5</td>\n",
       "      <td>149.52</td>\n",
       "      <td>1</td>\n",
       "      <td>1</td>\n",
       "      <td>1</td>\n",
       "      <td>111</td>\n",
       "      <td>LOST CUSTOMER</td>\n",
       "    </tr>\n",
       "    <tr>\n",
       "      <th>12025</th>\n",
       "      <td>288</td>\n",
       "      <td>46</td>\n",
       "      <td>1021.59</td>\n",
       "      <td>1</td>\n",
       "      <td>2</td>\n",
       "      <td>1</td>\n",
       "      <td>121</td>\n",
       "      <td>ABOUT TO SLEEP</td>\n",
       "    </tr>\n",
       "    <tr>\n",
       "      <th>12026</th>\n",
       "      <td>340</td>\n",
       "      <td>409</td>\n",
       "      <td>20486.32</td>\n",
       "      <td>1</td>\n",
       "      <td>3</td>\n",
       "      <td>3</td>\n",
       "      <td>133</td>\n",
       "      <td>CANNOT LOOSE THEM</td>\n",
       "    </tr>\n",
       "    <tr>\n",
       "      <th>12031</th>\n",
       "      <td>71</td>\n",
       "      <td>7</td>\n",
       "      <td>136.18</td>\n",
       "      <td>2</td>\n",
       "      <td>1</td>\n",
       "      <td>1</td>\n",
       "      <td>211</td>\n",
       "      <td>ABOUT TO SLEEP</td>\n",
       "    </tr>\n",
       "    <tr>\n",
       "      <th>12042</th>\n",
       "      <td>265</td>\n",
       "      <td>223</td>\n",
       "      <td>6296.77</td>\n",
       "      <td>1</td>\n",
       "      <td>3</td>\n",
       "      <td>2</td>\n",
       "      <td>132</td>\n",
       "      <td>CANNOT LOOSE THEM</td>\n",
       "    </tr>\n",
       "    <tr>\n",
       "      <th>12043</th>\n",
       "      <td>158</td>\n",
       "      <td>36</td>\n",
       "      <td>1235.59</td>\n",
       "      <td>1</td>\n",
       "      <td>2</td>\n",
       "      <td>1</td>\n",
       "      <td>121</td>\n",
       "      <td>ABOUT TO SLEEP</td>\n",
       "    </tr>\n",
       "  </tbody>\n",
       "</table>\n",
       "</div>"
      ],
      "text/plain": [
       "            Recency  Frequency  Monetary  R_Tertile  F_Tertile  M_Tertile  \\\n",
       "CustomerNo                                                                  \n",
       "12004           228         56   1509.60          1          2          1   \n",
       "12006           219          1     24.76          1          1          1   \n",
       "12008           277        203   5689.57          1          3          2   \n",
       "12013           360          1     69.96          1          1          1   \n",
       "12024           177          5    149.52          1          1          1   \n",
       "12025           288         46   1021.59          1          2          1   \n",
       "12026           340        409  20486.32          1          3          3   \n",
       "12031            71          7    136.18          2          1          1   \n",
       "12042           265        223   6296.77          1          3          2   \n",
       "12043           158         36   1235.59          1          2          1   \n",
       "\n",
       "           RFM_Score       segment_name  \n",
       "CustomerNo                               \n",
       "12004            121     ABOUT TO SLEEP  \n",
       "12006            111      LOST CUSTOMER  \n",
       "12008            132  CANNOT LOOSE THEM  \n",
       "12013            111      LOST CUSTOMER  \n",
       "12024            111      LOST CUSTOMER  \n",
       "12025            121     ABOUT TO SLEEP  \n",
       "12026            133  CANNOT LOOSE THEM  \n",
       "12031            211     ABOUT TO SLEEP  \n",
       "12042            132  CANNOT LOOSE THEM  \n",
       "12043            121     ABOUT TO SLEEP  "
      ]
     },
     "execution_count": 35,
     "metadata": {},
     "output_type": "execute_result"
    }
   ],
   "source": [
    "rfm_segmentation.head(10)"
   ]
  },
  {
   "cell_type": "code",
   "execution_count": 19,
   "id": "69f13567-c659-4de1-9752-9c99a4e097f2",
   "metadata": {},
   "outputs": [],
   "source": [
    "segment_name = {'112':'ABOUT TO SLEEP',\n",
    "                '113':'ABOUT TO SLEEP', \n",
    "                '121':'ABOUT TO SLEEP',\n",
    "\n",
    "                '122':'ABOUT TO SLEEP',\n",
    "                '131':'ABOUT TO SLEEP', \n",
    "                '211':'ABOUT TO SLEEP',\n",
    "\n",
    "                '212':'ABOUT TO SLEEP',\n",
    "                '221':'ABOUT TO SLEEP', \n",
    "\n",
    "                '311':'RECENT CUSTOMER',\n",
    "                '312':'RECENT CUSTOMER', \n",
    "                '313':'RECENT CUSTOMER',\n",
    "\n",
    "                '123':'CANNOT LOOSE THEM',\n",
    "                '132':'CANNOT LOOSE THEM', \n",
    "                '133':'CANNOT LOOSE THEM',\n",
    "\n",
    "                '333':'CHAMPION',\n",
    "                '111':'LOST CUSTOMER',\n",
    "\n",
    "                '233':'LOYAL',\n",
    "                '323':'LOYAL', \n",
    "                '332':'LOYAL',\n",
    "\n",
    "                '223':'POTENTIAL LOYALIST',\n",
    "                '223':'POTENTIAL LOYALIST', \n",
    "                '322':'POTENTIAL LOYALIST',\n",
    "                '331':'POTENTIAL LOYALIST',\n",
    "\n",
    "                '213':'AVERAGE',\n",
    "                '222':'AVERAGE', \n",
    "                '231':'AVERAGE',\n",
    "                '321':'AVERAGE'}"
   ]
  },
  {
   "cell_type": "code",
   "execution_count": 20,
   "id": "047bf5cc-28d3-491e-bfa6-691548866346",
   "metadata": {},
   "outputs": [],
   "source": [
    "rfm_segmentation[\"segment_name\"] = rfm_segmentation[\"RFM_Score\"].map(segment_name)"
   ]
  },
  {
   "cell_type": "code",
   "execution_count": 21,
   "id": "2d40ffdf-9bd7-4419-83a0-3df858374892",
   "metadata": {},
   "outputs": [
    {
     "data": {
      "text/html": [
       "<div>\n",
       "<style scoped>\n",
       "    .dataframe tbody tr th:only-of-type {\n",
       "        vertical-align: middle;\n",
       "    }\n",
       "\n",
       "    .dataframe tbody tr th {\n",
       "        vertical-align: top;\n",
       "    }\n",
       "\n",
       "    .dataframe thead th {\n",
       "        text-align: right;\n",
       "    }\n",
       "</style>\n",
       "<table border=\"1\" class=\"dataframe\">\n",
       "  <thead>\n",
       "    <tr style=\"text-align: right;\">\n",
       "      <th></th>\n",
       "      <th>Recency</th>\n",
       "      <th>Frequency</th>\n",
       "      <th>Monetary</th>\n",
       "      <th>R_Tertile</th>\n",
       "      <th>F_Tertile</th>\n",
       "      <th>M_Tertile</th>\n",
       "      <th>RFM_Score</th>\n",
       "      <th>segment_name</th>\n",
       "    </tr>\n",
       "    <tr>\n",
       "      <th>CustomerNo</th>\n",
       "      <th></th>\n",
       "      <th></th>\n",
       "      <th></th>\n",
       "      <th></th>\n",
       "      <th></th>\n",
       "      <th></th>\n",
       "      <th></th>\n",
       "      <th></th>\n",
       "    </tr>\n",
       "  </thead>\n",
       "  <tbody>\n",
       "    <tr>\n",
       "      <th>12004</th>\n",
       "      <td>228</td>\n",
       "      <td>56</td>\n",
       "      <td>1509.60</td>\n",
       "      <td>1</td>\n",
       "      <td>2</td>\n",
       "      <td>1</td>\n",
       "      <td>121</td>\n",
       "      <td>ABOUT TO SLEEP</td>\n",
       "    </tr>\n",
       "    <tr>\n",
       "      <th>12006</th>\n",
       "      <td>219</td>\n",
       "      <td>1</td>\n",
       "      <td>24.76</td>\n",
       "      <td>1</td>\n",
       "      <td>1</td>\n",
       "      <td>1</td>\n",
       "      <td>111</td>\n",
       "      <td>LOST CUSTOMER</td>\n",
       "    </tr>\n",
       "    <tr>\n",
       "      <th>12008</th>\n",
       "      <td>277</td>\n",
       "      <td>203</td>\n",
       "      <td>5689.57</td>\n",
       "      <td>1</td>\n",
       "      <td>3</td>\n",
       "      <td>2</td>\n",
       "      <td>132</td>\n",
       "      <td>CANNOT LOOSE THEM</td>\n",
       "    </tr>\n",
       "    <tr>\n",
       "      <th>12013</th>\n",
       "      <td>360</td>\n",
       "      <td>1</td>\n",
       "      <td>69.96</td>\n",
       "      <td>1</td>\n",
       "      <td>1</td>\n",
       "      <td>1</td>\n",
       "      <td>111</td>\n",
       "      <td>LOST CUSTOMER</td>\n",
       "    </tr>\n",
       "    <tr>\n",
       "      <th>12024</th>\n",
       "      <td>177</td>\n",
       "      <td>5</td>\n",
       "      <td>149.52</td>\n",
       "      <td>1</td>\n",
       "      <td>1</td>\n",
       "      <td>1</td>\n",
       "      <td>111</td>\n",
       "      <td>LOST CUSTOMER</td>\n",
       "    </tr>\n",
       "    <tr>\n",
       "      <th>12025</th>\n",
       "      <td>288</td>\n",
       "      <td>46</td>\n",
       "      <td>1021.59</td>\n",
       "      <td>1</td>\n",
       "      <td>2</td>\n",
       "      <td>1</td>\n",
       "      <td>121</td>\n",
       "      <td>ABOUT TO SLEEP</td>\n",
       "    </tr>\n",
       "    <tr>\n",
       "      <th>12026</th>\n",
       "      <td>340</td>\n",
       "      <td>409</td>\n",
       "      <td>20486.32</td>\n",
       "      <td>1</td>\n",
       "      <td>3</td>\n",
       "      <td>3</td>\n",
       "      <td>133</td>\n",
       "      <td>CANNOT LOOSE THEM</td>\n",
       "    </tr>\n",
       "    <tr>\n",
       "      <th>12031</th>\n",
       "      <td>71</td>\n",
       "      <td>7</td>\n",
       "      <td>136.18</td>\n",
       "      <td>2</td>\n",
       "      <td>1</td>\n",
       "      <td>1</td>\n",
       "      <td>211</td>\n",
       "      <td>ABOUT TO SLEEP</td>\n",
       "    </tr>\n",
       "    <tr>\n",
       "      <th>12042</th>\n",
       "      <td>265</td>\n",
       "      <td>223</td>\n",
       "      <td>6296.77</td>\n",
       "      <td>1</td>\n",
       "      <td>3</td>\n",
       "      <td>2</td>\n",
       "      <td>132</td>\n",
       "      <td>CANNOT LOOSE THEM</td>\n",
       "    </tr>\n",
       "    <tr>\n",
       "      <th>12043</th>\n",
       "      <td>158</td>\n",
       "      <td>36</td>\n",
       "      <td>1235.59</td>\n",
       "      <td>1</td>\n",
       "      <td>2</td>\n",
       "      <td>1</td>\n",
       "      <td>121</td>\n",
       "      <td>ABOUT TO SLEEP</td>\n",
       "    </tr>\n",
       "  </tbody>\n",
       "</table>\n",
       "</div>"
      ],
      "text/plain": [
       "            Recency  Frequency  Monetary  R_Tertile  F_Tertile  M_Tertile  \\\n",
       "CustomerNo                                                                  \n",
       "12004           228         56   1509.60          1          2          1   \n",
       "12006           219          1     24.76          1          1          1   \n",
       "12008           277        203   5689.57          1          3          2   \n",
       "12013           360          1     69.96          1          1          1   \n",
       "12024           177          5    149.52          1          1          1   \n",
       "12025           288         46   1021.59          1          2          1   \n",
       "12026           340        409  20486.32          1          3          3   \n",
       "12031            71          7    136.18          2          1          1   \n",
       "12042           265        223   6296.77          1          3          2   \n",
       "12043           158         36   1235.59          1          2          1   \n",
       "\n",
       "           RFM_Score       segment_name  \n",
       "CustomerNo                               \n",
       "12004            121     ABOUT TO SLEEP  \n",
       "12006            111      LOST CUSTOMER  \n",
       "12008            132  CANNOT LOOSE THEM  \n",
       "12013            111      LOST CUSTOMER  \n",
       "12024            111      LOST CUSTOMER  \n",
       "12025            121     ABOUT TO SLEEP  \n",
       "12026            133  CANNOT LOOSE THEM  \n",
       "12031            211     ABOUT TO SLEEP  \n",
       "12042            132  CANNOT LOOSE THEM  \n",
       "12043            121     ABOUT TO SLEEP  "
      ]
     },
     "execution_count": 21,
     "metadata": {},
     "output_type": "execute_result"
    }
   ],
   "source": [
    "rfm_segmentation.head(10)"
   ]
  },
  {
   "cell_type": "code",
   "execution_count": 22,
   "id": "0e497e82-0247-4a3a-8f65-c4ffbb8c98f6",
   "metadata": {},
   "outputs": [
    {
     "data": {
      "text/plain": [
       "segment_name      \n",
       "ABOUT TO SLEEP        1167\n",
       "CHAMPION               707\n",
       "LOST CUSTOMER          676\n",
       "LOYAL                  633\n",
       "AVERAGE                450\n",
       "POTENTIAL LOYALIST     420\n",
       "CANNOT LOOSE THEM      295\n",
       "RECENT CUSTOMER        249\n",
       "dtype: int64"
      ]
     },
     "execution_count": 22,
     "metadata": {},
     "output_type": "execute_result"
    }
   ],
   "source": [
    "rfm_segmentation[['segment_name']].value_counts()"
   ]
  },
  {
   "cell_type": "code",
   "execution_count": 29,
   "id": "8ded53af-ccab-49b9-8a9b-233f11fbbfc1",
   "metadata": {},
   "outputs": [
    {
     "data": {
      "image/png": "[encoded data removed]",
      "text/plain": [
       "<Figure size 700x500 with 1 Axes>"
      ]
     },
     "metadata": {},
     "output_type": "display_data"
    }
   ],
   "source": [
    "fig = plt.figure(figsize=(7,5), dpi= 100)\n",
    "ax = sns.countplot(y=\"segment_name\", data=rfm_segmentation)"
   ]
  },
  {
   "cell_type": "code",
   "execution_count": 174,
   "id": "fccbc614-d158-4f7c-9448-36466304fbb9",
   "metadata": {},
   "outputs": [
    {
     "data": {
      "text/plain": [
       "segment_name\n",
       "ABOUT TO SLEEP         3856130.15\n",
       "AVERAGE                2547019.77\n",
       "CANNOT LOOSE THEM      3521604.91\n",
       "CHAMPION              32129145.90\n",
       "LOST CUSTOMER           651574.69\n",
       "LOYAL                 12131600.34\n",
       "POTENTIAL LOYALIST     3438078.67\n",
       "RECENT CUSTOMER        1215173.55\n",
       "Name: Monetary, dtype: float64"
      ]
     },
     "execution_count": 174,
     "metadata": {},
     "output_type": "execute_result"
    }
   ],
   "source": [
    "rfm_segmentation.groupby('segment_name')['Monetary'].sum()"
   ]
  },
  {
   "cell_type": "code",
   "execution_count": 41,
   "id": "d8798615-608c-4006-8d00-8812153a16b6",
   "metadata": {},
   "outputs": [
    {
     "data": {
      "text/plain": [
       "segment_name\n",
       "ABOUT TO SLEEP         3856130.15\n",
       "AVERAGE                2547019.77\n",
       "CANNOT LOOSE THEM      3521604.91\n",
       "CHAMPION              32129145.90\n",
       "LOST CUSTOMER           651574.69\n",
       "LOYAL                 12131600.34\n",
       "POTENTIAL LOYALIST     3438078.67\n",
       "RECENT CUSTOMER        1215173.55\n",
       "Name: Monetary, dtype: float64"
      ]
     },
     "execution_count": 41,
     "metadata": {},
     "output_type": "execute_result"
    }
   ],
   "source": [
    "rfm_segmentation.groupby('segment_name')['Monetary'].sum()"
   ]
  },
  {
   "cell_type": "code",
   "execution_count": 39,
   "id": "add40509-380b-4284-a47c-73fa46367b4d",
   "metadata": {},
   "outputs": [
    {
     "data": {
      "image/png": "[encoded data removed]",
      "text/plain": [
       "<Figure size 700x500 with 1 Axes>"
      ]
     },
     "metadata": {},
     "output_type": "display_data"
    }
   ],
   "source": [
    "import matplotlib.pyplot as plt\n",
    "import seaborn as sns\n",
    "\n",
    "#set seaborn plotting aesthetics\n",
    "fig = plt.figure(figsize=(7,5), dpi= 100)\n",
    "sns.set(style='white')\n",
    "\n",
    "sns.barplot(x = \"Monetary\", y = \"segment_name\", data = rfm_segmentation ,\n",
    "                 errcolor=\".2\", edgecolor=\".2\")\n",
    "            \n",
    "plt.show()"
   ]
  },
  {
   "cell_type": "code",
   "execution_count": 32,
   "id": "32f1b949-f0af-40b7-92c8-ad2c553fe4ad",
   "metadata": {},
   "outputs": [
    {
     "data": {
      "image/png": "[encoded data removed]",
      "text/plain": [
       "<Figure size 700x500 with 1 Axes>"
      ]
     },
     "metadata": {},
     "output_type": "display_data"
    }
   ],
   "source": [
    "import matplotlib.pyplot as plt\n",
    "import seaborn as sns\n",
    "\n",
    "#set seaborn plotting aesthetics\n",
    "fig = plt.figure(figsize=(7,5), dpi= 100)\n",
    "sns.set(style='white')\n",
    "\n",
    "sns.barplot(x = \"Frequency\", y = \"segment_name\", data = rfm_segmentation ,\n",
    "                 errcolor=\".2\", edgecolor=\".2\")\n",
    "            \n",
    "plt.show()"
   ]
  },
  {
   "cell_type": "code",
   "execution_count": 33,
   "id": "e3a615ba-0b59-42d2-8c1a-6f4755797292",
   "metadata": {},
   "outputs": [
    {
     "data": {
      "image/png": "[encoded data removed]",
      "text/plain": [
       "<Figure size 700x500 with 1 Axes>"
      ]
     },
     "metadata": {},
     "output_type": "display_data"
    }
   ],
   "source": [
    "import matplotlib.pyplot as plt\n",
    "import seaborn as sns\n",
    "\n",
    "#set seaborn plotting aesthetics\n",
    "fig = plt.figure(figsize=(7,5), dpi= 100)\n",
    "sns.set(style='white')\n",
    "\n",
    "sns.barplot(x = \"Recency\", y = \"segment_name\", data = rfm_segmentation ,\n",
    "                 errcolor=\".2\", edgecolor=\".2\")\n",
    "            \n",
    "plt.show()"
   ]
  },
  {
   "cell_type": "code",
   "execution_count": null,
   "id": "29bb5372-b54d-4bca-96a3-e2bb4ef22516",
   "metadata": {},
   "outputs": [],
   "source": []
  }
 ],
 "metadata": {
  "kernelspec": {
   "display_name": "Python 3 (ipykernel)",
   "language": "python",
   "name": "python3"
  },
  "language_info": {
   "codemirror_mode": {
    "name": "ipython",
    "version": 3
   },
   "file_extension": ".py",
   "mimetype": "text/x-python",
   "name": "python",
   "nbconvert_exporter": "python",
   "pygments_lexer": "ipython3",
   "version": "3.9.7"
  }
 },
 "nbformat": 4,
 "nbformat_minor": 5
}
